{
 "cells": [
  {
   "cell_type": "markdown",
   "id": "474ef870",
   "metadata": {},
   "source": [
    "# Models conversion in ONNX format"
   ]
  },
  {
   "cell_type": "markdown",
   "id": "67974b8b",
   "metadata": {},
   "source": [
    "Useful link:\n",
    "    \n",
    "    https://onnx.ai/sklearn-onnx/introduction.html\n",
    "        \n",
    "    https://pypi.org/project/onnxmltools/"
   ]
  },
  {
   "cell_type": "code",
   "execution_count": 26,
   "id": "edbe23af",
   "metadata": {},
   "outputs": [],
   "source": [
    "#!pip install onnxmltools"
   ]
  },
  {
   "cell_type": "code",
   "execution_count": 27,
   "id": "dd72202f",
   "metadata": {},
   "outputs": [],
   "source": [
    "import site\n",
    "import sys\n",
    "sys.path.append(site.getusersitepackages())"
   ]
  },
  {
   "cell_type": "code",
   "execution_count": 28,
   "id": "9468fff7",
   "metadata": {},
   "outputs": [],
   "source": [
    "import joblib\n",
    "import onnxmltools\n",
    "from onnxmltools.convert import convert_xgboost\n",
    "from onnxmltools.convert.common.data_types import FloatTensorType\n",
    "\n",
    "grid_search = joblib.load('/eos/user/m/moameen/HjTagger/models/model_xgboost_for_HjTagger_27May2025_a_r3')\n",
    "model = grid_search.best_estimator_\n",
    "initial_type = [('float_input', FloatTensorType([None, 4]))]\n",
    "onnx_model = convert_xgboost(model, initial_types=initial_type)\n",
    "\n",
    "# Save the ONNX model\n",
    "output_path = \"/eos/user/m/moameen/multilepton-analysis/data/models_hjtagger/model_xgboost_for_HjTagger_27May2025_a_r3.onnx\"\n",
    "with open(output_path, \"wb\") as f:\n",
    "    f.write(onnx_model.SerializeToString())"
   ]
  },
  {
   "cell_type": "markdown",
   "id": "01b7b21e",
   "metadata": {},
   "source": [
    "# for all model files *In one Go:*"
   ]
  },
  {
   "cell_type": "code",
   "execution_count": 29,
   "id": "786ec954",
   "metadata": {},
   "outputs": [
    {
     "name": "stdout",
     "output_type": "stream",
     "text": [
      "Converting model: model_xgboost_for_HjTagger_27May2025_a_all5wp_r3\n",
      "Saved ONNX model to: /eos/user/m/moameen/multilepton-analysis/data/models_hjtagger/model_xgboost_for_HjTagger_27May2025_a_all5wp_r3.onnx\n",
      "Converting model: model_xgboost_for_HjTagger_27May2025_a_r3\n",
      "Saved ONNX model to: /eos/user/m/moameen/multilepton-analysis/data/models_hjtagger/model_xgboost_for_HjTagger_27May2025_a_r3.onnx\n",
      "Converting model: model_xgboost_for_HjTagger_27May2025_a_weights_r5\n",
      "Saved ONNX model to: /eos/user/m/moameen/multilepton-analysis/data/models_hjtagger/model_xgboost_for_HjTagger_27May2025_a_weights_r5.onnx\n",
      "Converting model: model_xgboost_for_HjTagger_27May2025_b_all5wp_r3\n",
      "Saved ONNX model to: /eos/user/m/moameen/multilepton-analysis/data/models_hjtagger/model_xgboost_for_HjTagger_27May2025_b_all5wp_r3.onnx\n",
      "Converting model: model_xgboost_for_HjTagger_27May2025_b_r3\n",
      "Saved ONNX model to: /eos/user/m/moameen/multilepton-analysis/data/models_hjtagger/model_xgboost_for_HjTagger_27May2025_b_r3.onnx\n",
      "Converting model: model_xgboost_for_HjTagger_27May2025_c_all5wp_r3\n",
      "Saved ONNX model to: /eos/user/m/moameen/multilepton-analysis/data/models_hjtagger/model_xgboost_for_HjTagger_27May2025_c_all5wp_r3.onnx\n",
      "Converting model: model_xgboost_for_HjTagger_27May2025_c_r3\n",
      "Saved ONNX model to: /eos/user/m/moameen/multilepton-analysis/data/models_hjtagger/model_xgboost_for_HjTagger_27May2025_c_r3.onnx\n",
      "Converting model: model_xgboost_for_HjTagger_27May2025_d_r3\n",
      "Saved ONNX model to: /eos/user/m/moameen/multilepton-analysis/data/models_hjtagger/model_xgboost_for_HjTagger_27May2025_d_r3.onnx\n",
      "Converting model: model_xgboost_for_HjTagger_27May2025_e_r3\n",
      "Saved ONNX model to: /eos/user/m/moameen/multilepton-analysis/data/models_hjtagger/model_xgboost_for_HjTagger_27May2025_e_r3.onnx\n",
      "Converting model: model_xgboost_for_HjTagger_27May2025_f_r3\n",
      "Saved ONNX model to: /eos/user/m/moameen/multilepton-analysis/data/models_hjtagger/model_xgboost_for_HjTagger_27May2025_f_r3.onnx\n"
     ]
    }
   ],
   "source": [
    "import os\n",
    "import joblib\n",
    "import onnxmltools\n",
    "from onnxmltools.convert import convert_xgboost\n",
    "from onnxmltools.convert.common.data_types import FloatTensorType\n",
    "\n",
    "input_dir = \"/eos/user/m/moameen/HjTagger/models/\"\n",
    "output_dir = \"/eos/user/m/moameen/multilepton-analysis/data/models_hjtagger/\"\n",
    "os.makedirs(output_dir, exist_ok=True)\n",
    "\n",
    "for filename in os.listdir(input_dir):\n",
    "    if filename.startswith(\"model_\"):\n",
    "        input_path = os.path.join(input_dir, filename)\n",
    "        print(f\"Converting model: {filename}\")\n",
    "\n",
    "        try:\n",
    "            grid_search = joblib.load(input_path)\n",
    "            model = grid_search.best_estimator_\n",
    "            initial_type = [('float_input', FloatTensorType([None, 4]))]\n",
    "            onnx_model = convert_xgboost(model, initial_types=initial_type)\n",
    "            base_name = os.path.splitext(filename)[0]\n",
    "            output_path = os.path.join(output_dir, base_name + \".onnx\")\n",
    "            with open(output_path, \"wb\") as f:\n",
    "                f.write(onnx_model.SerializeToString())\n",
    "            \n",
    "            print(f\"Saved ONNX model to: {output_path}\")\n",
    "        \n",
    "        except Exception as e:\n",
    "            print(f\"Failed to convert {filename}: {e}\")"
   ]
  },
  {
   "cell_type": "code",
   "execution_count": 30,
   "id": "5e03dcac",
   "metadata": {},
   "outputs": [
    {
     "name": "stdout",
     "output_type": "stream",
     "text": [
      "Final outputs: ['label', 'probabilities']\n"
     ]
    }
   ],
   "source": [
    "import onnx\n",
    "model = onnx.load(\"/eos/user/m/moameen/multilepton-analysis/data/models_hjtagger/model_xgboost_for_HjTagger_27May2025_a_r3.onnx\")\n",
    "print(\"Final outputs:\", [o.name for o in model.graph.output])"
   ]
  },
  {
   "cell_type": "markdown",
   "id": "9281a82c",
   "metadata": {},
   "source": [
    "We see two output with name 'label' and 'probabilities'. The cintent of two output of such onnx format model will not work for our CMGRDF framework. So we need to keep the probabilities output and remove the label"
   ]
  },
  {
   "cell_type": "code",
   "execution_count": 34,
   "id": "7c1e0fd1",
   "metadata": {},
   "outputs": [
    {
     "name": "stdout",
     "output_type": "stream",
     "text": [
      "Processing model: model_xgboost_for_HjTagger_27May2025_FIXED.onnx\n",
      "Saved to: /eos/user/m/moameen/multilepton-analysis/data/models_hjtagger_probonly/model_xgboost_for_HjTagger_27May2025_FIXED.onnx\n",
      "Processing model: model_xgboost_for_HjTagger_27May2025_a_all5wp_r3.onnx\n",
      "Saved to: /eos/user/m/moameen/multilepton-analysis/data/models_hjtagger_probonly/model_xgboost_for_HjTagger_27May2025_a_all5wp_r3.onnx\n",
      "Processing model: model_xgboost_for_HjTagger_27May2025_a_r3.onnx\n",
      "Saved to: /eos/user/m/moameen/multilepton-analysis/data/models_hjtagger_probonly/model_xgboost_for_HjTagger_27May2025_a_r3.onnx\n",
      "Processing model: model_xgboost_for_HjTagger_27May2025_a_weights_r5.onnx\n",
      "Saved to: /eos/user/m/moameen/multilepton-analysis/data/models_hjtagger_probonly/model_xgboost_for_HjTagger_27May2025_a_weights_r5.onnx\n",
      "Processing model: model_xgboost_for_HjTagger_27May2025_b_all5wp_r3.onnx\n",
      "Saved to: /eos/user/m/moameen/multilepton-analysis/data/models_hjtagger_probonly/model_xgboost_for_HjTagger_27May2025_b_all5wp_r3.onnx\n",
      "Processing model: model_xgboost_for_HjTagger_27May2025_b_r3.onnx\n",
      "Saved to: /eos/user/m/moameen/multilepton-analysis/data/models_hjtagger_probonly/model_xgboost_for_HjTagger_27May2025_b_r3.onnx\n",
      "Processing model: model_xgboost_for_HjTagger_27May2025_c_all5wp_r3.onnx\n",
      "Saved to: /eos/user/m/moameen/multilepton-analysis/data/models_hjtagger_probonly/model_xgboost_for_HjTagger_27May2025_c_all5wp_r3.onnx\n",
      "Processing model: model_xgboost_for_HjTagger_27May2025_c_r3.onnx\n",
      "Saved to: /eos/user/m/moameen/multilepton-analysis/data/models_hjtagger_probonly/model_xgboost_for_HjTagger_27May2025_c_r3.onnx\n",
      "Processing model: model_xgboost_for_HjTagger_27May2025_d_r3.onnx\n",
      "Saved to: /eos/user/m/moameen/multilepton-analysis/data/models_hjtagger_probonly/model_xgboost_for_HjTagger_27May2025_d_r3.onnx\n",
      "Processing model: model_xgboost_for_HjTagger_27May2025_e_r3.onnx\n",
      "Saved to: /eos/user/m/moameen/multilepton-analysis/data/models_hjtagger_probonly/model_xgboost_for_HjTagger_27May2025_e_r3.onnx\n",
      "Processing model: model_xgboost_for_HjTagger_27May2025_f_r3.onnx\n",
      "Saved to: /eos/user/m/moameen/multilepton-analysis/data/models_hjtagger_probonly/model_xgboost_for_HjTagger_27May2025_f_r3.onnx\n"
     ]
    }
   ],
   "source": [
    "import os\n",
    "import onnx\n",
    "\n",
    "input_dir = \"/eos/user/m/moameen/multilepton-analysis/data/models_hjtagger\"\n",
    "output_dir = \"/eos/user/m/moameen/multilepton-analysis/data/models_hjtagger_probonly\"\n",
    "\n",
    "os.makedirs(output_dir, exist_ok=True)\n",
    "\n",
    "for filename in os.listdir(input_dir):\n",
    "    if filename.endswith(\".onnx\"):\n",
    "        input_path = os.path.join(input_dir, filename)\n",
    "        output_path = os.path.join(output_dir, filename)\n",
    "        \n",
    "        print(f\"Processing model: {filename}\")\n",
    "        model = onnx.load(input_path)\n",
    "        \n",
    "        outputs = model.graph.output\n",
    "        #print(output)\n",
    "        new_outputs = [output for output in outputs if output.name == \"probabilities\"]\n",
    "        #print(new_outputs)\n",
    "        model.graph.ClearField(\"output\")\n",
    "        model.graph.output.extend(new_outputs)\n",
    "        onnx.save(model, output_path)\n",
    "        \n",
    "        print(f\"Saved to: {output_path}\")"
   ]
  },
  {
   "cell_type": "code",
   "execution_count": 35,
   "id": "72169f22",
   "metadata": {},
   "outputs": [
    {
     "name": "stdout",
     "output_type": "stream",
     "text": [
      "NOW Final outputs: ['probabilities']\n"
     ]
    }
   ],
   "source": [
    "# Just to check\n",
    "import onnx\n",
    "model = onnx.load(\"/eos/user/m/moameen/multilepton-analysis/data/models_hjtagger_probonly/model_xgboost_for_HjTagger_27May2025_a_r3.onnx\")\n",
    "print(\"NOW Final outputs:\", [o.name for o in model.graph.output])"
   ]
  }
 ],
 "metadata": {
  "@webio": {
   "lastCommId": null,
   "lastKernelId": null
  },
  "kernelspec": {
   "display_name": "Python 3",
   "language": "python",
   "name": "python3"
  },
  "language_info": {
   "codemirror_mode": {
    "name": "ipython",
    "version": 3
   },
   "file_extension": ".py",
   "mimetype": "text/x-python",
   "name": "python",
   "nbconvert_exporter": "python",
   "pygments_lexer": "ipython3",
   "version": "3.11.9"
  }
 },
 "nbformat": 4,
 "nbformat_minor": 5
}
