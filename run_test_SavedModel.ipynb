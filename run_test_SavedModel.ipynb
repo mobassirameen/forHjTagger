{
 "cells": [
  {
   "cell_type": "code",
   "execution_count": 1,
   "id": "964e1d82",
   "metadata": {},
   "outputs": [
    {
     "name": "stdout",
     "output_type": "stream",
     "text": [
      "{'tree_event;1': 'TTree'}\n",
      "File loaded with  720822  events \n",
      "Df shape before selection : (720822, 17) \n",
      "\n",
      "Df shape after  selection : (720822, 17)\n"
     ]
    }
   ],
   "source": [
    "import uproot as ur\n",
    "import pandas as pd\n",
    "\n",
    "filename=(\"/eos/cms/store/group/phys_higgs/moameen/tthmlep/data_forHjTagger_training_2025-05-27/data_forHjTagger.root\")\n",
    "file = ur.open(filename)\n",
    "print(file.classnames())\n",
    "tree = file[\"tree_event\"]\n",
    "dfall = tree.arrays(library=\"pd\")\n",
    "print (\"File loaded with \",dfall.shape[0], \" events \")\n",
    "print (\"Df shape before selection :\", dfall.shape, \"\\n\")\n",
    "\n",
    "fulldata = dfall\n",
    "\n",
    "print (\"Df shape after  selection :\",fulldata.shape)"
   ]
  },
  {
   "cell_type": "code",
   "execution_count": 2,
   "id": "006ea661",
   "metadata": {},
   "outputs": [],
   "source": [
    "target = fulldata[\"label\"].astype(int)\n",
    "data   = pd.DataFrame(fulldata, columns=[\"jet25_pt\",\"jet25_lepdrmax\",\"jet25_lepdrmin\",\"jet25_btagDeepFlavB_discScore\"])"
   ]
  },
  {
   "cell_type": "code",
   "execution_count": 3,
   "id": "bd3791b4",
   "metadata": {},
   "outputs": [
    {
     "name": "stdout",
     "output_type": "stream",
     "text": [
      "Count of 0: 398847\n",
      "Count of 1: 94493\n",
      "Count of 2: 55804\n",
      "Count of 3: 171678\n",
      "Count of 4: 0\n"
     ]
    }
   ],
   "source": [
    "count_0 = (data[\"jet25_btagDeepFlavB_discScore\"] == 0).sum()\n",
    "count_1 = (data[\"jet25_btagDeepFlavB_discScore\"] == 1).sum()\n",
    "count_2 = (data[\"jet25_btagDeepFlavB_discScore\"] == 2).sum()\n",
    "count_3 = (data[\"jet25_btagDeepFlavB_discScore\"] == 3).sum()\n",
    "count_4 = (data[\"jet25_btagDeepFlavB_discScore\"] == 4).sum()\n",
    "\n",
    "print(\"Count of 0:\", count_0)\n",
    "print(\"Count of 1:\", count_1)\n",
    "print(\"Count of 2:\", count_2)\n",
    "print(\"Count of 3:\", count_3)\n",
    "print(\"Count of 4:\", count_4)"
   ]
  },
  {
   "cell_type": "code",
   "execution_count": 4,
   "id": "00b19697",
   "metadata": {},
   "outputs": [
    {
     "name": "stdout",
     "output_type": "stream",
     "text": [
      "No of Features at evaluation = 4\n"
     ]
    }
   ],
   "source": [
    "n_features = data.shape[1]\n",
    "print(f'No of Features at evaluation = {n_features}')"
   ]
  },
  {
   "cell_type": "code",
   "execution_count": 5,
   "id": "d76ad226",
   "metadata": {},
   "outputs": [],
   "source": [
    "# Let's scaled the input features\n",
    "from sklearn.preprocessing import StandardScaler\n",
    "scaler = StandardScaler()\n",
    "data_scaled = scaler.fit_transform(data)"
   ]
  },
  {
   "cell_type": "code",
   "execution_count": 6,
   "id": "36a075d1",
   "metadata": {},
   "outputs": [
    {
     "name": "stdout",
     "output_type": "stream",
     "text": [
      "Loading to evaluate model: /eos/user/m/moameen/HjTagger/models/model_xgboost_for_HjTagger_27May2025_a_r3\n"
     ]
    }
   ],
   "source": [
    "import joblib\n",
    "\n",
    "modelfile_joblib = \"/eos/user/m/moameen/HjTagger/models/model_xgboost_for_HjTagger_27May2025_a_r3\"\n",
    "print(f\"Loading to evaluate model: {modelfile_joblib}\")\n",
    "model_joblib = joblib.load(modelfile_joblib)\n",
    "\n",
    "prob_joblib = model_joblib.predict_proba(data_scaled)[:,1]"
   ]
  },
  {
   "cell_type": "code",
   "execution_count": 7,
   "id": "0e8f2d26",
   "metadata": {},
   "outputs": [
    {
     "data": {
      "image/png": "[encoded data removed]",
      "text/plain": [
       "<Figure size 576x360 with 1 Axes>"
      ]
     },
     "metadata": {
      "needs_background": "light"
     },
     "output_type": "display_data"
    }
   ],
   "source": [
    "# Now Plots\n",
    "\n",
    "import matplotlib.pyplot as plt\n",
    "\n",
    "plt.figure(figsize=(8, 5))\n",
    "plt.hist(prob_joblib, bins=20, histtype='step', density=True)\n",
    "plt.title('Distribution of HjTagXGBoost Score')\n",
    "plt.xlabel('Hj Tagger Score')\n",
    "plt.ylabel('Frequency')\n",
    "plt.grid(True)\n",
    "plt.show()"
   ]
  },
  {
   "cell_type": "code",
   "execution_count": 8,
   "id": "f315d09c",
   "metadata": {},
   "outputs": [
    {
     "name": "stdout",
     "output_type": "stream",
     "text": [
      "Inputs:\n",
      "  float_input, shape: [None, 4], type: tensor(float)\n",
      "Outputs:\n",
      "  label, shape: [None], type: tensor(int64)\n",
      "  probabilities, shape: [None, 2], type: tensor(float)\n"
     ]
    }
   ],
   "source": [
    "import onnxruntime as rt\n",
    "\n",
    "sess = rt.InferenceSession(\"/eos/user/m/moameen/multilepton-analysis/data/models_hjtagger/model_xgboost_for_HjTagger_27May2025_a_r3.onnx\", providers=[\"CPUExecutionProvider\"])\n",
    "# Check model inputs and outputs\n",
    "print(\"Inputs:\")\n",
    "for inp in sess.get_inputs():\n",
    "    print(f\"  {inp.name}, shape: {inp.shape}, type: {inp.type}\")\n",
    "\n",
    "print(\"Outputs:\")\n",
    "for out in sess.get_outputs():\n",
    "    print(f\"  {out.name}, shape: {out.shape}, type: {out.type}\")\n",
    "    \n",
    "label = sess.get_outputs()[0].name\n",
    "probabilities = sess.get_outputs()[1].name"
   ]
  },
  {
   "cell_type": "code",
   "execution_count": 9,
   "id": "bae27b4d",
   "metadata": {},
   "outputs": [
    {
     "name": "stdout",
     "output_type": "stream",
     "text": [
      "float64\n"
     ]
    }
   ],
   "source": [
    "print(data_scaled.dtype)"
   ]
  },
  {
   "cell_type": "code",
   "execution_count": 10,
   "id": "2d0382b4",
   "metadata": {},
   "outputs": [],
   "source": [
    "import numpy as np\n",
    "data_scaled = data_scaled.astype(np.float32)"
   ]
  },
  {
   "cell_type": "code",
   "execution_count": 11,
   "id": "1e3b054f",
   "metadata": {},
   "outputs": [
    {
     "name": "stdout",
     "output_type": "stream",
     "text": [
      "[[0.78404397 0.21595603]\n",
      " [0.79287505 0.20712495]\n",
      " [0.68443054 0.31556946]\n",
      " ...\n",
      " [0.8243513  0.17564869]\n",
      " [0.79084    0.20915997]\n",
      " [0.5306368  0.4693632 ]]\n"
     ]
    }
   ],
   "source": [
    "# Run prediction\n",
    "pred_onnx = sess.run([probabilities], {\"float_input\": data_scaled})[0]\n",
    "print(pred_onnx)"
   ]
  },
  {
   "cell_type": "code",
   "execution_count": 12,
   "id": "1d849145",
   "metadata": {},
   "outputs": [
    {
     "data": {
      "image/png": "[encoded data removed]",
      "text/plain": [
       "<Figure size 576x360 with 1 Axes>"
      ]
     },
     "metadata": {
      "needs_background": "light"
     },
     "output_type": "display_data"
    }
   ],
   "source": [
    "# Now Plots\n",
    "\n",
    "import matplotlib.pyplot as plt\n",
    "\n",
    "plt.figure(figsize=(8, 5))\n",
    "plt.hist(pred_onnx, bins=20, histtype='step', density=True)\n",
    "plt.title('Distribution of HjTagXGBoost Score')\n",
    "plt.xlabel('Hj Tagger Score')\n",
    "plt.ylabel('Frequency')\n",
    "plt.grid(True)\n",
    "plt.show()"
   ]
  },
  {
   "cell_type": "code",
   "execution_count": 13,
   "id": "7508afcc",
   "metadata": {},
   "outputs": [
    {
     "data": {
      "image/png": "[encoded data removed]",
      "text/plain": [
       "<Figure size 576x360 with 1 Axes>"
      ]
     },
     "metadata": {
      "needs_background": "light"
     },
     "output_type": "display_data"
    }
   ],
   "source": [
    "plt.figure(figsize=(8, 5))\n",
    "plt.hist(pred_onnx[:, 1], bins=20, histtype='step', density=True)\n",
    "plt.xlabel(\"Probability of Class 0\")\n",
    "plt.ylabel(\"Frequency\")\n",
    "plt.title(\"Histogram of Class 0 Probabilities\")\n",
    "plt.show()"
   ]
  },
  {
   "cell_type": "code",
   "execution_count": 14,
   "id": "baf35a95",
   "metadata": {},
   "outputs": [
    {
     "data": {
      "image/png": "[encoded data removed]",
      "text/plain": [
       "<Figure size 576x360 with 1 Axes>"
      ]
     },
     "metadata": {
      "needs_background": "light"
     },
     "output_type": "display_data"
    }
   ],
   "source": [
    "plt.figure(figsize=(8, 5))\n",
    "plt.hist(pred_onnx[:, 0], bins=20, histtype='step', density=True)\n",
    "plt.xlabel(\"Probability of Class 1\")\n",
    "plt.ylabel(\"Frequency\")\n",
    "plt.title(\"Histogram of Class 1 Probabilities\")\n",
    "plt.show()"
   ]
  }
 ],
 "metadata": {
  "@webio": {
   "lastCommId": null,
   "lastKernelId": null
  },
  "kernelspec": {
   "display_name": "Python 3",
   "language": "python",
   "name": "python3"
  },
  "language_info": {
   "codemirror_mode": {
    "name": "ipython",
    "version": 3
   },
   "file_extension": ".py",
   "mimetype": "text/x-python",
   "name": "python",
   "nbconvert_exporter": "python",
   "pygments_lexer": "ipython3",
   "version": "3.11.9"
  }
 },
 "nbformat": 4,
 "nbformat_minor": 5
}
