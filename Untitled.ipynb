{
 "cells": [
  {
   "cell_type": "code",
   "execution_count": 1,
   "id": "de51f85b",
   "metadata": {},
   "outputs": [
    {
     "name": "stdout",
     "output_type": "stream",
     "text": [
      "{'tree_event;1': 'TTree'}\n",
      "File loaded with  720822  events \n",
      "Df shape before selection : (720822, 17) \n",
      "\n",
      "Df shape after  selection : (720822, 17)\n"
     ]
    }
   ],
   "source": [
    "import uproot as ur\n",
    "import pandas as pd\n",
    "\n",
    "filename=(\"/eos/cms/store/group/phys_higgs/moameen/tthmlep/data_forHjTagger_training_2025-05-27/data_forHjTagger.root\")\n",
    "file = ur.open(filename)\n",
    "print(file.classnames())\n",
    "tree = file[\"tree_event\"]\n",
    "dfall = tree.arrays(library=\"pd\")\n",
    "print (\"File loaded with \",dfall.shape[0], \" events \")\n",
    "print (\"Df shape before selection :\", dfall.shape, \"\\n\")\n",
    "\n",
    "fulldata = dfall\n",
    "\n",
    "print (\"Df shape after  selection :\",fulldata.shape)"
   ]
  },
  {
   "cell_type": "code",
   "execution_count": 2,
   "id": "c61f1fa6",
   "metadata": {},
   "outputs": [],
   "source": [
    "target = fulldata[\"label\"].astype(int)\n",
    "data   = pd.DataFrame(fulldata, columns=[\"jet25_pt\",\"jet25_lepdrmax\",\"jet25_lepdrmin\",\"jet25_btagDeepFlavB_discScore\"])"
   ]
  },
  {
   "cell_type": "code",
   "execution_count": 3,
   "id": "25a929ba",
   "metadata": {},
   "outputs": [
    {
     "data": {
      "text/html": [
       "<div>\n",
       "<style scoped>\n",
       "    .dataframe tbody tr th:only-of-type {\n",
       "        vertical-align: middle;\n",
       "    }\n",
       "\n",
       "    .dataframe tbody tr th {\n",
       "        vertical-align: top;\n",
       "    }\n",
       "\n",
       "    .dataframe thead th {\n",
       "        text-align: right;\n",
       "    }\n",
       "</style>\n",
       "<table border=\"1\" class=\"dataframe\">\n",
       "  <thead>\n",
       "    <tr style=\"text-align: right;\">\n",
       "      <th></th>\n",
       "      <th>jet25_pt</th>\n",
       "      <th>jet25_lepdrmax</th>\n",
       "      <th>jet25_lepdrmin</th>\n",
       "      <th>jet25_btagDeepFlavB_discScore</th>\n",
       "    </tr>\n",
       "  </thead>\n",
       "  <tbody>\n",
       "    <tr>\n",
       "      <th>0</th>\n",
       "      <td>115.827888</td>\n",
       "      <td>3.031456</td>\n",
       "      <td>0.724818</td>\n",
       "      <td>3</td>\n",
       "    </tr>\n",
       "    <tr>\n",
       "      <th>1</th>\n",
       "      <td>104.239281</td>\n",
       "      <td>1.923303</td>\n",
       "      <td>1.820926</td>\n",
       "      <td>3</td>\n",
       "    </tr>\n",
       "    <tr>\n",
       "      <th>2</th>\n",
       "      <td>103.732269</td>\n",
       "      <td>2.072021</td>\n",
       "      <td>1.665946</td>\n",
       "      <td>0</td>\n",
       "    </tr>\n",
       "    <tr>\n",
       "      <th>3</th>\n",
       "      <td>34.164665</td>\n",
       "      <td>2.153384</td>\n",
       "      <td>1.552176</td>\n",
       "      <td>0</td>\n",
       "    </tr>\n",
       "    <tr>\n",
       "      <th>4</th>\n",
       "      <td>156.550797</td>\n",
       "      <td>2.672606</td>\n",
       "      <td>1.913243</td>\n",
       "      <td>0</td>\n",
       "    </tr>\n",
       "    <tr>\n",
       "      <th>...</th>\n",
       "      <td>...</td>\n",
       "      <td>...</td>\n",
       "      <td>...</td>\n",
       "      <td>...</td>\n",
       "    </tr>\n",
       "    <tr>\n",
       "      <th>720817</th>\n",
       "      <td>37.800056</td>\n",
       "      <td>3.567796</td>\n",
       "      <td>2.892186</td>\n",
       "      <td>0</td>\n",
       "    </tr>\n",
       "    <tr>\n",
       "      <th>720818</th>\n",
       "      <td>90.305695</td>\n",
       "      <td>3.844222</td>\n",
       "      <td>3.090837</td>\n",
       "      <td>0</td>\n",
       "    </tr>\n",
       "    <tr>\n",
       "      <th>720819</th>\n",
       "      <td>60.371086</td>\n",
       "      <td>1.896801</td>\n",
       "      <td>1.762377</td>\n",
       "      <td>3</td>\n",
       "    </tr>\n",
       "    <tr>\n",
       "      <th>720820</th>\n",
       "      <td>60.975658</td>\n",
       "      <td>2.749986</td>\n",
       "      <td>2.332882</td>\n",
       "      <td>0</td>\n",
       "    </tr>\n",
       "    <tr>\n",
       "      <th>720821</th>\n",
       "      <td>31.146502</td>\n",
       "      <td>2.962217</td>\n",
       "      <td>1.965573</td>\n",
       "      <td>0</td>\n",
       "    </tr>\n",
       "  </tbody>\n",
       "</table>\n",
       "<p>720822 rows × 4 columns</p>\n",
       "</div>"
      ],
      "text/plain": [
       "          jet25_pt  jet25_lepdrmax  jet25_lepdrmin  \\\n",
       "0       115.827888        3.031456        0.724818   \n",
       "1       104.239281        1.923303        1.820926   \n",
       "2       103.732269        2.072021        1.665946   \n",
       "3        34.164665        2.153384        1.552176   \n",
       "4       156.550797        2.672606        1.913243   \n",
       "...            ...             ...             ...   \n",
       "720817   37.800056        3.567796        2.892186   \n",
       "720818   90.305695        3.844222        3.090837   \n",
       "720819   60.371086        1.896801        1.762377   \n",
       "720820   60.975658        2.749986        2.332882   \n",
       "720821   31.146502        2.962217        1.965573   \n",
       "\n",
       "        jet25_btagDeepFlavB_discScore  \n",
       "0                                   3  \n",
       "1                                   3  \n",
       "2                                   0  \n",
       "3                                   0  \n",
       "4                                   0  \n",
       "...                               ...  \n",
       "720817                              0  \n",
       "720818                              0  \n",
       "720819                              3  \n",
       "720820                              0  \n",
       "720821                              0  \n",
       "\n",
       "[720822 rows x 4 columns]"
      ]
     },
     "metadata": {},
     "output_type": "display_data"
    }
   ],
   "source": [
    "display(data)"
   ]
  },
  {
   "cell_type": "code",
   "execution_count": 4,
   "id": "66355a03",
   "metadata": {},
   "outputs": [],
   "source": [
    "# Let's scaled the input features\n",
    "from sklearn.preprocessing import StandardScaler\n",
    "scaler = StandardScaler()\n",
    "data_scaled = scaler.fit_transform(data)"
   ]
  },
  {
   "cell_type": "code",
   "execution_count": 6,
   "id": "f6660aae",
   "metadata": {},
   "outputs": [
    {
     "data": {
      "text/plain": [
       "array([[ 0.34252566,  0.53419777, -1.22903076,  1.58905102],\n",
       "       [ 0.19365664, -1.03164852,  0.22308721,  1.58905102],\n",
       "       [ 0.18714349, -0.821506  ,  0.0177703 , -0.79504313],\n",
       "       ...,\n",
       "       [-0.36988089, -1.06909699,  0.14552264,  1.58905102],\n",
       "       [-0.36211447,  0.13647432,  0.90132506, -0.79504313],\n",
       "       [-0.74530437,  0.43636158,  0.41471572, -0.79504313]])"
      ]
     },
     "execution_count": 6,
     "metadata": {},
     "output_type": "execute_result"
    }
   ],
   "source": [
    "data_scaled"
   ]
  },
  {
   "cell_type": "code",
   "execution_count": 7,
   "id": "3a325212",
   "metadata": {},
   "outputs": [
    {
     "name": "stdout",
     "output_type": "stream",
     "text": [
      "Inputs:\n",
      "  float_input, shape: [None, 4], type: tensor(float)\n",
      "Outputs:\n",
      "  label, shape: [None], type: tensor(int64)\n",
      "  probabilities, shape: [None, 2], type: tensor(float)\n"
     ]
    }
   ],
   "source": [
    "import onnxruntime as rt\n",
    "\n",
    "sess = rt.InferenceSession(\"/eos/user/m/moameen/multilepton-analysis/data/models_hjtagger/model_xgboost_for_HjTagger_27May2025_a_r3.onnx\", providers=[\"CPUExecutionProvider\"])\n",
    "# Check model inputs and outputs\n",
    "print(\"Inputs:\")\n",
    "for inp in sess.get_inputs():\n",
    "    print(f\"  {inp.name}, shape: {inp.shape}, type: {inp.type}\")\n",
    "\n",
    "print(\"Outputs:\")\n",
    "for out in sess.get_outputs():\n",
    "    print(f\"  {out.name}, shape: {out.shape}, type: {out.type}\")\n",
    "    \n",
    "label = sess.get_outputs()[0].name\n",
    "probabilities = sess.get_outputs()[1].name"
   ]
  },
  {
   "cell_type": "code",
   "execution_count": 9,
   "id": "b373c4f1",
   "metadata": {},
   "outputs": [
    {
     "name": "stdout",
     "output_type": "stream",
     "text": [
      "Predicted label: [0]\n",
      "Probabilities: [[0.78404397 0.21595603]]\n"
     ]
    }
   ],
   "source": [
    "import numpy as np\n",
    "\n",
    "# Example: one sample with 4 features\n",
    "sample = np.array([[0.34252566, 0.53419777, -1.22903076, 1.58905102]], dtype=np.float32)\n",
    "\n",
    "# Run inference\n",
    "pred = sess.run([label, probabilities], {\"float_input\": sample})\n",
    "\n",
    "print(\"Predicted label:\", pred[0])\n",
    "print(\"Probabilities:\", pred[1])"
   ]
  },
  {
   "cell_type": "markdown",
   "id": "2dc8193b",
   "metadata": {},
   "source": [
    "**ChatGPT Explanation:**"
   ]
  },
  {
   "cell_type": "markdown",
   "id": "da2df1be",
   "metadata": {},
   "source": [
    "Predicted label: [0] → The model assigns this sample to class 0.\n",
    "\n",
    "Probabilities: [[0.78404397 0.21595603]] → The model is providing the confidence for both classes:\n",
    "\n",
    "Probability of class 0 = 0.784 (≈ 78.4%)\n",
    "\n",
    "Probability of class 1 = 0.216 (≈ 21.6%)\n",
    "\n",
    "Since class 0 has the higher probability, the model predicts the sample belongs to class 0."
   ]
  },
  {
   "cell_type": "code",
   "execution_count": null,
   "id": "d3e49327",
   "metadata": {},
   "outputs": [],
   "source": []
  }
 ],
 "metadata": {
  "kernelspec": {
   "display_name": "Python 3",
   "language": "python",
   "name": "python3"
  },
  "language_info": {
   "codemirror_mode": {
    "name": "ipython",
    "version": 3
   },
   "file_extension": ".py",
   "mimetype": "text/x-python",
   "name": "python",
   "nbconvert_exporter": "python",
   "pygments_lexer": "ipython3",
   "version": "3.11.9"
  }
 },
 "nbformat": 4,
 "nbformat_minor": 5
}
